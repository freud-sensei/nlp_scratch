{
 "cells": [
  {
   "cell_type": "markdown",
   "metadata": {},
   "source": [
    "# 순환 신경망 (RNN)"
   ]
  },
  {
   "cell_type": "markdown",
   "metadata": {},
   "source": [
    "## 언어 모델"
   ]
  },
  {
   "cell_type": "markdown",
   "metadata": {},
   "source": [
    "CBOW의 한계\n",
    "* 맥락의 크기 외부에 있는 단어의 정보는 무시된다.\n",
    "* 맥락의 어순을 고려하지 않는다.\n",
    "* 사실 word2vec은 단어의 분산표현을 얻으려는 목적, 언어모델로 사용 X\n",
    "\n",
    "순환 신경망(RNN): 맥락이 아무리 길더라도 그 정보를 기억한다.\n",
    "\n",
    "$\\textbf{h}_t = tanh(\\textbf{h}_{t-1}\\textbf{W}_h+\\textbf{x}_t\\textbf{W}_x + \\textbf{b})$\n",
    "* 은닉 벡터 $\\textbf{h}_t$는 (1)다른 계층으로, (2)자기자신을 향해 양방향으로 출력된다."
   ]
  },
  {
   "cell_type": "markdown",
   "metadata": {},
   "source": [
    "## BPTT"
   ]
  },
  {
   "cell_type": "markdown",
   "metadata": {},
   "source": [
    "BPTT(backpropagation through time): RNN에서 사용되는 역전파법, 시간 방향으로 펼쳐서 생각해 보자\n",
    "* 문제점: 큰 시계열 데이터 학습 시 많은 컴퓨팅자원 사용\n",
    "* Truncated BPTT: 역전파의 연결을 적당한 길이로 잘라내, 그 단위로 학습 수행 (다른 블록의 데이터는 고려하지 않아도 됨)\n",
    "* 미니배치 학습의 경우, 각 미니배치의 시작 위치를 offset(맨 처음)으로 옮겨준 후 순서대로 입력하면 됨"
   ]
  },
  {
   "cell_type": "markdown",
   "metadata": {},
   "source": [
    "# RNN 구현"
   ]
  },
  {
   "cell_type": "markdown",
   "metadata": {},
   "source": [
    "Time RNN 계층: 순환구조를 펼친 후의 계층들을 하나의 계층으로 간주"
   ]
  },
  {
   "cell_type": "code",
   "execution_count": 2,
   "metadata": {},
   "outputs": [],
   "source": [
    "# 일반 RNN 계층\n",
    "\n",
    "import numpy as np\n",
    "\n",
    "class RNN:\n",
    "    def __init__(self, Wx, Wh, b):\n",
    "        self.params = [Wx, Wh, b]\n",
    "        self.grads = [np.zeros_like(Wx), np.zeros_like(Wh), np.zeros_like(b)]\n",
    "        self.cache = None\n",
    "    \n",
    "    def forward(self, x, h_prev):\n",
    "        # h_prev (x_t-1): (N, H)\n",
    "        # Wh: (H, H)\n",
    "        # x (x_t): (N, D)\n",
    "        # Wx: (D, H)\n",
    "        Wx, Wh, b = self.params\n",
    "        t = np.matmul(h_prev, Wh) + np.matmul(x, Wx) + b\n",
    "        h_next = np.tanh(t)\n",
    "        self.cache = (x, h_prev, h_next)\n",
    "        return h_next\n",
    "    \n",
    "    def backward(self, dh_next):\n",
    "        Wx, Wh, Wb = self.params\n",
    "        x, h_prev, h_next = self.cache\n",
    "        \n",
    "        dt = dh_next * (1 - h_next ** 2)\n",
    "        db = np.sum(dt, axis=0)\n",
    "        dWh = np.matmul(h_prev.T, dt)\n",
    "        dh_prev = np.matmul(dt, Wh.T)\n",
    "        dWx = np.matmul(x.T, dt)\n",
    "        dx = np.matmul(dt, Wx.T)\n",
    "        \n",
    "        self.grads[0][...] = dWx\n",
    "        self.grads[1][...] = dWh\n",
    "        self.grads[2][...] = db\n",
    "        \n",
    "        return dx, dh_prev"
   ]
  },
  {
   "cell_type": "code",
   "execution_count": 3,
   "metadata": {},
   "outputs": [],
   "source": [
    "# T개의 RNN 계층 (Time RNN 계층)\n",
    "class TimeRNN:\n",
    "    def __init__(self, Wx, Wh, b, stateful=False):\n",
    "        self.params = [Wx, Wh, b]\n",
    "        self.grads = [np.zeros_like(Wx), np.zeros_like(Wh), np.zeros_like(b)]\n",
    "        self.layers = None # RNN 계층을 리스트로 저장\n",
    "         \n",
    "        self.h, self.dh = None, None\n",
    "        # 마지막 RNN계층의 은닉 상태 / 하나 앞 블록 은닉상태의 기울기\n",
    "        self.stateful = stateful # False일 시 은닉상태를 0으로 초기화\n",
    "        \n",
    "    def set_state(self, h):\n",
    "        self.h = h\n",
    "        \n",
    "    def reset_state(self):\n",
    "        self.h = None\n",
    "        \n",
    "    def forward(self, xs):\n",
    "        # xs: T개 분량의 시계열데이터를 모은 것, (N, T, D)\n",
    "        Wx, Wh, b = self.params\n",
    "        N, T, D = xs.shape\n",
    "        D, H = Wx.shape\n",
    "        \n",
    "        self.layers = []\n",
    "        hs = np.empty((N, T, H), dtype='f')\n",
    "        \n",
    "        if not self.stateful or self.h is None:\n",
    "            self.h = np.zeros((N, H), dtype='f')\n",
    "        # 은닉상태는 영행렬로 초기화\n",
    "        \n",
    "        for t in range(T):\n",
    "            layer = RNN(*self.params)\n",
    "            self.h = layer.forward(xs[:, t, :], self.h)\n",
    "            hs[:, t, :] = self.h\n",
    "            self.layers.append(layer)\n",
    "        \n",
    "        return hs\n",
    "\n",
    "    def backward(self, dhs):\n",
    "        # dhs: 출력층에서 전해지는 기울기\n",
    "        # dxs: 하류로 내보내는 기울기\n",
    "        Wx, Wh, b = self.params\n",
    "        N, T, H = dhs.shape\n",
    "        D, H = Wx.shape\n",
    "        \n",
    "        dxs = np.empty((N, T, D), dtpye='f')\n",
    "        dh = 0\n",
    "        grads = [0, 0, 0]\n",
    "        \n",
    "        for t in reversed(range(T)):\n",
    "            layer = self.layers[t]\n",
    "            dx, dh = layer.backward(dhs[:, t, :] + dh)\n",
    "            dxs[:, t, :] = dx\n",
    "            for i, grad in enumerate(layer.grads):\n",
    "                grads[i] += grad\n",
    "            \n",
    "        for i, grad in enumerate(grads):\n",
    "            self.grads[i][...] = grad\n",
    "            # Time RNN계층의 최종 가중치 기울기는, 각 RNN 계층의 가중치 기울기를 모두 더한 것\n",
    "        self.dh = dh\n",
    "        \n",
    "        return dxs    \n",
    "            \n",
    "        "
   ]
  },
  {
   "cell_type": "markdown",
   "metadata": {},
   "source": [
    "# 시계열 데이터 처리 계층 구현"
   ]
  },
  {
   "cell_type": "markdown",
   "metadata": {},
   "source": [
    "$\\bf{w_t}$ -> embedding -> RNN -> affine -> softmax 순으로 쌓은 신경망 만들기\n",
    "* 문장 sequence를 입력할 때, 각 token에 대해 다음에 올 token을 예측한다.\n",
    "* Time Embedding, Time Affine, Time Softmax with Loss 구조를 구현할 필요가 있다.\n",
    "* 최종 손실은 $L = \\frac{1}{T}(L_0 + L_1 + ... + L_{t-1})$\n",
    "\n",
    "`simple_rnnlm.py`을 보세요~"
   ]
  },
  {
   "cell_type": "markdown",
   "metadata": {},
   "source": [
    "## 언어 모델의 평가\n",
    "\n",
    "perplexity(혼란도)\n",
    "* 확률의 역수, 작을수록 좋음\n",
    "* 분기 수: 다음에 취할 선택사항의 수 (퍼플렉시티가 5: 후보가 아직 5개나 된다)\n",
    "\n",
    "$ L = -\\frac{1}{N}\\sum_n\\sum_kt_{nk}logy_{nk}$\n",
    "\n",
    "$ perplexity = e^L$\n",
    "\n",
    "* $N$: 데이터 총개수, $t_n$: 원핫벡터 정답 레이블, $t_{nk}$: n개째 데이터의 k번째 값, $y_{nk}$: softmax함수의 출력"
   ]
  },
  {
   "cell_type": "markdown",
   "metadata": {},
   "source": [
    "학습 과정은 `train_custom_loop.py`를 보세요~"
   ]
  },
  {
   "cell_type": "markdown",
   "metadata": {},
   "source": []
  }
 ],
 "metadata": {
  "kernelspec": {
   "display_name": "base",
   "language": "python",
   "name": "python3"
  },
  "language_info": {
   "codemirror_mode": {
    "name": "ipython",
    "version": 3
   },
   "file_extension": ".py",
   "mimetype": "text/x-python",
   "name": "python",
   "nbconvert_exporter": "python",
   "pygments_lexer": "ipython3",
   "version": "3.9.13"
  }
 },
 "nbformat": 4,
 "nbformat_minor": 2
}
