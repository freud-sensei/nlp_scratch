{
 "cells": [
  {
   "cell_type": "markdown",
   "metadata": {},
   "source": [
    "# 통계 기반 기법"
   ]
  },
  {
   "cell_type": "markdown",
   "metadata": {},
   "source": [
    "## 말뭉치 전처리"
   ]
  },
  {
   "cell_type": "code",
   "execution_count": 4,
   "metadata": {},
   "outputs": [
    {
     "data": {
      "text/plain": [
       "'yesterday my wife left me .'"
      ]
     },
     "execution_count": 4,
     "metadata": {},
     "output_type": "execute_result"
    }
   ],
   "source": [
    "# 1. 소문자 통일, 마침표 분리\n",
    "text = \"Yesterday my wife left me.\"\n",
    "text = text.lower()\n",
    "text = text.replace('.', ' .')\n",
    "text"
   ]
  },
  {
   "cell_type": "code",
   "execution_count": 5,
   "metadata": {},
   "outputs": [
    {
     "data": {
      "text/plain": [
       "['yesterday', 'my', 'wife', 'left', 'me', '.']"
      ]
     },
     "execution_count": 5,
     "metadata": {},
     "output_type": "execute_result"
    }
   ],
   "source": [
    "# 2. 단어리스트 생성\n",
    "words = text.split()\n",
    "words"
   ]
  },
  {
   "cell_type": "code",
   "execution_count": 6,
   "metadata": {},
   "outputs": [
    {
     "name": "stdout",
     "output_type": "stream",
     "text": [
      "{'yesterday': 0, 'my': 1, 'wife': 2, 'left': 3, 'me': 4, '.': 5}\n",
      "{0: 'yesterday', 1: 'my', 2: 'wife', 3: 'left', 4: 'me', 5: '.'}\n"
     ]
    }
   ],
   "source": [
    "# 3. 단어에 ID 부여, 딕셔너리 생성\n",
    "word2id = {}\n",
    "id2word = {}\n",
    "\n",
    "for w in words:\n",
    "    if w not in word2id:\n",
    "        new_id = len(word2id)\n",
    "        word2id[w] = new_id\n",
    "        id2word[new_id] = w\n",
    "\n",
    "print(word2id)\n",
    "print(id2word)"
   ]
  },
  {
   "cell_type": "code",
   "execution_count": 9,
   "metadata": {},
   "outputs": [
    {
     "name": "stdout",
     "output_type": "stream",
     "text": [
      "[0 1 2 3 4 5]\n"
     ]
    }
   ],
   "source": [
    "# 4. 단어 목록을 id목록으로 변경\n",
    "import numpy as np\n",
    "corpus = np.array([word2id[w] for w in words])\n",
    "print(corpus)\n"
   ]
  },
  {
   "cell_type": "code",
   "execution_count": 13,
   "metadata": {},
   "outputs": [
    {
     "name": "stdout",
     "output_type": "stream",
     "text": [
      "[0 1 2 3 4 5 6 7]\n",
      "{'i': 0, 'hope': 1, 'sunday': 2, 'is': 3, 'a': 4, 'sunny': 5, 'day': 6, '.': 7}\n",
      "{0: 'i', 1: 'hope', 2: 'sunday', 3: 'is', 4: 'a', 5: 'sunny', 6: 'day', 7: '.'}\n"
     ]
    }
   ],
   "source": [
    "# 한꺼번에\n",
    "def preprocess(text):\n",
    "    text = text.lower()\n",
    "    text = text.replace('.', ' .')\n",
    "    words = text.split(' ')\n",
    "    word2id, id2word = {}, {}\n",
    "    for w in words:\n",
    "        if w not in word2id:\n",
    "            new_id = len(word2id)\n",
    "            word2id[w] = new_id\n",
    "            id2word[new_id] = w\n",
    "    corpus = np.array([word2id[w] for w in words])\n",
    "    return corpus, word2id, id2word\n",
    "\n",
    "text = 'I hope Sunday is a sunny day.'\n",
    "for r in preprocess(text):\n",
    "    print(r)"
   ]
  },
  {
   "cell_type": "markdown",
   "metadata": {},
   "source": [
    "## 동시발생 행렬"
   ]
  },
  {
   "cell_type": "code",
   "execution_count": 14,
   "metadata": {},
   "outputs": [
    {
     "name": "stdout",
     "output_type": "stream",
     "text": [
      "[0 1 2 3 4 5 6 7]\n",
      "{0: 'i', 1: 'hope', 2: 'sunday', 3: 'is', 4: 'a', 5: 'sunny', 6: 'day', 7: '.'}\n"
     ]
    }
   ],
   "source": [
    "# 해당 단어 주변에 어떤 단어가 몇 번 등장했는지?: \"통계기반 기법\"\n",
    "import sys\n",
    "sys.path.append('..')\n",
    "import numpy as np\n",
    "from common.util import preprocess\n",
    "\n",
    "text = \"I hope Sunday is a sunny day.\"\n",
    "corpus, word2id, id2word = preprocess(text)\n",
    "print(corpus)\n",
    "print(id2word)"
   ]
  },
  {
   "cell_type": "code",
   "execution_count": 17,
   "metadata": {},
   "outputs": [
    {
     "data": {
      "text/plain": [
       "array([[0, 1, 0, 0, 0, 0, 0],\n",
       "       [1, 0, 1, 0, 1, 1, 0],\n",
       "       [0, 1, 0, 1, 0, 0, 0],\n",
       "       [0, 0, 1, 0, 1, 0, 0],\n",
       "       [0, 1, 0, 1, 0, 0, 0],\n",
       "       [0, 1, 0, 0, 0, 0, 1],\n",
       "       [0, 0, 0, 0, 0, 1, 0]])"
      ]
     },
     "execution_count": 17,
     "metadata": {},
     "output_type": "execute_result"
    }
   ],
   "source": [
    "# 윈도우 크기: 전후 몇개의 단어의 빈도를 셀 것인가\n",
    "# 동시발생 행렬: 각 단어에 대해, 윈도우 크기 범위에서 다른 단어가 몇 번 나타나는가\n",
    "\n",
    "def create_co_matrix(corpus, vocab_size, window_size=1):\n",
    "    corpus_size = len(corpus) # 입력된 corpus의 길이. vocab_size와 혼동하지 않기\n",
    "    co_matrix = np.zeros((vocab_size, vocab_size), dtype=np.int32)\n",
    "    \n",
    "    for idx, word_id in enumerate(corpus):\n",
    "        for i in range(1, window_size + 1):\n",
    "            left = idx - i\n",
    "            right = idx + 1\n",
    "            \n",
    "            if left >= 0:\n",
    "                left_id = corpus[left]\n",
    "                co_matrix[word_id, left_id] += 1\n",
    "            if right < corpus_size:\n",
    "                right_id = corpus[right]\n",
    "                co_matrix[word_id, right_id] += 1\n",
    "\n",
    "    return co_matrix\n",
    "\n",
    "corpus, word2id, id2word = preprocess(\"You say goodbye and I say hello.\")\n",
    "create_co_matrix(corpus, len(word2id), window_size=1)"
   ]
  },
  {
   "cell_type": "markdown",
   "metadata": {},
   "source": [
    "## 벡터 간 유사도"
   ]
  },
  {
   "cell_type": "code",
   "execution_count": 18,
   "metadata": {},
   "outputs": [],
   "source": [
    "def cos_similarity(x, y, eps=1e-8):\n",
    "    nx = x / (np.sqrt(np.sum(x ** 2)) + eps)\n",
    "    ny = y / (np.sqrt(np.sum(y ** 2)) + eps)\n",
    "    return np.dot(nx, ny)\n",
    "    # eps: 인수가 영벡터일 때 0으로 나누지 않게끔 처리"
   ]
  },
  {
   "cell_type": "markdown",
   "metadata": {},
   "source": [
    "실제 사용 예시는 동일 폴더 `similarity.py` 확인"
   ]
  },
  {
   "cell_type": "markdown",
   "metadata": {},
   "source": [
    "## 유사 단어의 랭킹 표시"
   ]
  },
  {
   "cell_type": "code",
   "execution_count": 19,
   "metadata": {},
   "outputs": [],
   "source": [
    "# 검색어와 비슷한 단어 순으로 표시\n",
    "def most_similar(query, word2id, id2word, word_matrix, top=5):\n",
    "    \n",
    "    # 검색어 찾기\n",
    "    if query not in word2id:\n",
    "        print(f\"단어 {query}을(를) 찾을 수 없습니다.\")\n",
    "        return\n",
    "    query_id = word2id[query]\n",
    "    query_vec = word_matrix[query_id]\n",
    "    \n",
    "    # 코사인유사도 계산\n",
    "    vocab_size = len(word2id)\n",
    "    similarity = np.zeros(vocab_size)\n",
    "    for i in range(vocab_size):\n",
    "        similarity[i] = cos_similarity(word_matrix[i], query_vec)\n",
    "        \n",
    "    # 내림차순 출력\n",
    "    count = 0\n",
    "    for i in (-1 * similarity).argsort():\n",
    "        # argsort는 sort된 list가 아닌, 그 indices를 return\n",
    "        # (-를 붙여줌으로써 역순으로 정렬할 수 있다.)\n",
    "        if id2word[i] == query:\n",
    "            continue\n",
    "        print(f\"{id2word[i]}: {similarity[i]}\")\n",
    "        count += 1\n",
    "        if count >= top:\n",
    "            return"
   ]
  },
  {
   "cell_type": "markdown",
   "metadata": {},
   "source": [
    "실제 구현은 `most_similar.py` 파일을 살펴보자."
   ]
  },
  {
   "cell_type": "markdown",
   "metadata": {},
   "source": [
    "# 통계기반 기법 계산하기"
   ]
  },
  {
   "cell_type": "markdown",
   "metadata": {},
   "source": [
    "## 점별 상호정보량 (pointwise mutual information)"
   ]
  },
  {
   "cell_type": "markdown",
   "metadata": {},
   "source": [
    "$PMI(x, y) = log_2\\frac{P(x, y)}{P(x)P(y)} = log_2\\frac{\\frac{C(x, y)}{N}}{\\frac{C(x)}{N}\\frac{C(y)}{N}} = log_2\\frac{C(x,y)N}{C(x)C(y)}$\n",
    "* $C$는 동시발생 행렬에서의 값을 뜻한다.\n",
    "* 개별 단어가 단독으로 출현하는 횟수가 적을 때 점수가 더 높다.\n",
    "\n",
    "$PPMI(x, y) = max(0, PMI(x, y))$\n",
    "* $C(x, y) = 0$ 일 때 값이 $-\\infty$가 되는 것을 방지한다."
   ]
  },
  {
   "cell_type": "code",
   "execution_count": 20,
   "metadata": {},
   "outputs": [],
   "source": [
    "# 동시발생행렬 -> PPMI 행렬\n",
    "def ppmi(C, verbose=False, eps=1e-8):\n",
    "    M = np.zeros_like(C, dtype=np.float32)\n",
    "    N = np.sum(C)\n",
    "    S = np.sum(axis=0)\n",
    "    total = C.shape[0] * C.shape[1]\n",
    "    count = 0\n",
    "    \n",
    "    for i in range(C.shape[0]):\n",
    "        for j in range(C.shape[0]):\n",
    "            pmi = np.log2(C[i, j] * N / (S[i] * S[j]) + eps)\n",
    "            M[i, j] = max(0, pmi)\n",
    "            \n",
    "            if verbose:\n",
    "                count += 1\n",
    "                if count % (total // 100 + 1) == 0:\n",
    "                    print(f\"{100 * count / total:.1f}% 완료\")\n",
    "    \n",
    "    return M"
   ]
  },
  {
   "cell_type": "markdown",
   "metadata": {},
   "source": [
    "구현은 `ppmi.py`를 보세요."
   ]
  },
  {
   "cell_type": "markdown",
   "metadata": {},
   "source": [
    "## 차원 축소\n",
    "\n",
    "* sparse matrix -> dense matrix\n",
    "* 선대때 배운, Singular Value Decomposition ($A = U\\Sigma V^T$)\n",
    "* 직교행렬 $U$는 벡터공간의 기저를 형성한다\n",
    "* $\\Sigma$의 대각성분은 특잇값이 나열되어 있다 (축의 중요도 순서) -> 낮은 원소를 깎아내기\n",
    "\n",
    "`count_method_small.py`를 보세요.\n"
   ]
  },
  {
   "cell_type": "markdown",
   "metadata": {},
   "source": [
    "## PTB 데이터셋\n",
    "\n",
    "* 더 큰 텍스트 데이터를 써 보자\n",
    "* `<unk>`는 희소한 단어, `<eos>`는 end of sentence\n",
    "\n",
    "`show_ptb.py`, `count_method_big.py`를 보세요."
   ]
  },
  {
   "cell_type": "code",
   "execution_count": null,
   "metadata": {},
   "outputs": [],
   "source": []
  }
 ],
 "metadata": {
  "kernelspec": {
   "display_name": "base",
   "language": "python",
   "name": "python3"
  },
  "language_info": {
   "codemirror_mode": {
    "name": "ipython",
    "version": 3
   },
   "file_extension": ".py",
   "mimetype": "text/x-python",
   "name": "python",
   "nbconvert_exporter": "python",
   "pygments_lexer": "ipython3",
   "version": "3.9.13"
  }
 },
 "nbformat": 4,
 "nbformat_minor": 2
}
